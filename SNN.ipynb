{
 "cells": [
  {
   "cell_type": "code",
   "execution_count": 70,
   "id": "aa71a490",
   "metadata": {},
   "outputs": [],
   "source": [
    "import os\n",
    "\n",
    "import matplotlib.pyplot as plt\n",
    "\n",
    "import torchvision.datasets\n",
    "import torch\n",
    "import torch.nn as nn\n",
    "import torch.nn.functional as F\n",
    "import torch.optim as optim\n",
    "import torchvision.transforms as transforms\n",
    "from torch.autograd import Variable"
   ]
  },
  {
   "cell_type": "code",
   "execution_count": 71,
   "id": "433241bf",
   "metadata": {},
   "outputs": [],
   "source": [
    "from util import download_mnist\n",
    "from util import test, train, train_many_epochs\n",
    "from SNN import SpikingNet"
   ]
  },
  {
   "cell_type": "code",
   "execution_count": 72,
   "id": "947b6b1e",
   "metadata": {},
   "outputs": [],
   "source": [
    "batch_size = 1000\n",
    "DATA_PATH = './data'\n",
    "\n",
    "training_set, testing_set = download_mnist(DATA_PATH)\n",
    "train_set_loader = torch.utils.data.DataLoader(\n",
    "    dataset=training_set,\n",
    "    batch_size=batch_size,\n",
    "    shuffle=True)\n",
    "\n",
    "test_set_loader = torch.utils.data.DataLoader(\n",
    "    dataset=testing_set,\n",
    "    batch_size=batch_size,\n",
    "    shuffle=False)\n",
    "\n",
    "device = torch.device(\"cuda\" if torch.cuda.is_available() else \"cpu\")"
   ]
  },
  {
   "cell_type": "markdown",
   "id": "cdab51ea",
   "metadata": {},
   "source": [
    "# Training SNN"
   ]
  },
  {
   "cell_type": "code",
   "execution_count": 73,
   "id": "42440225",
   "metadata": {},
   "outputs": [
    {
     "ename": "TypeError",
     "evalue": "train_many_epochs() takes 1 positional argument but 2 were given",
     "output_type": "error",
     "traceback": [
      "\u001b[0;31m---------------------------------------------------------------------------\u001b[0m",
      "\u001b[0;31mTypeError\u001b[0m                                 Traceback (most recent call last)",
      "\u001b[0;32m/tmp/ipykernel_40829/3087484149.py\u001b[0m in \u001b[0;36m<module>\u001b[0;34m\u001b[0m\n\u001b[1;32m      1\u001b[0m \u001b[0mspiking_model\u001b[0m \u001b[0;34m=\u001b[0m \u001b[0mSpikingNet\u001b[0m\u001b[0;34m(\u001b[0m\u001b[0mdevice\u001b[0m\u001b[0;34m,\u001b[0m \u001b[0mn_time_steps\u001b[0m \u001b[0;34m=\u001b[0m \u001b[0;36m128\u001b[0m\u001b[0;34m,\u001b[0m \u001b[0mbegin_eval\u001b[0m\u001b[0;34m=\u001b[0m\u001b[0;36m0\u001b[0m\u001b[0;34m)\u001b[0m\u001b[0;34m\u001b[0m\u001b[0;34m\u001b[0m\u001b[0m\n\u001b[0;32m----> 2\u001b[0;31m \u001b[0mtrain_many_epochs\u001b[0m\u001b[0;34m(\u001b[0m\u001b[0mspiking_model\u001b[0m\u001b[0;34m,\u001b[0m \u001b[0mdevice\u001b[0m\u001b[0;34m)\u001b[0m\u001b[0;34m\u001b[0m\u001b[0;34m\u001b[0m\u001b[0m\n\u001b[0m",
      "\u001b[0;31mTypeError\u001b[0m: train_many_epochs() takes 1 positional argument but 2 were given"
     ]
    }
   ],
   "source": [
    "spiking_model = SpikingNet(device, n_time_steps = 128, begin_eval=0)\n",
    "train_many_epochs(spiking_model, device)"
   ]
  },
  {
   "cell_type": "code",
   "execution_count": null,
   "id": "41547901",
   "metadata": {},
   "outputs": [],
   "source": []
  }
 ],
 "metadata": {
  "kernelspec": {
   "display_name": "Python 3 (ipykernel)",
   "language": "python",
   "name": "python3"
  },
  "language_info": {
   "codemirror_mode": {
    "name": "ipython",
    "version": 3
   },
   "file_extension": ".py",
   "mimetype": "text/x-python",
   "name": "python",
   "nbconvert_exporter": "python",
   "pygments_lexer": "ipython3",
   "version": "3.8.10"
  }
 },
 "nbformat": 4,
 "nbformat_minor": 5
}
